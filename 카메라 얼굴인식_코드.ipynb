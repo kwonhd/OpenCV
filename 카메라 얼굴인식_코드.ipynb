{
 "cells": [
  {
   "cell_type": "code",
   "execution_count": 1,
   "metadata": {},
   "outputs": [],
   "source": [
    "import cv2\n",
    "\n",
    "cap = cv2.VideoCapture(0)#카메라 사용\n",
    "cap.set(cv2.CAP_PROP_FRAME_WIDTH,320)\n",
    "cap.set(cv2.CAP_PROP_FRAME_HEIGHT,240)    \n",
    "if not cap.isOpened():    #카메라 성공여부 확인\n",
    "    print(\"cap open failed\")    \n",
    "    exit()\n",
    "\n",
    "face_xml = cv2.CascadeClassifier(cv2.data.haarcascades + 'haarcascade_frontalface_default.xml') #훈련된 얼굴 및 눈 감지 파일 사용 xml형식\n",
    "eye_xml = cv2.CascadeClassifier(cv2.data.haarcascades + 'haarcascade_eye.xml')\n",
    "\n",
    "while True: \n",
    "    ret, img = cap.read()  #카메라 지속적으로 프레임 캡처 // 프레임을 img변수에 할당\n",
    "    if not ret:       \n",
    "        print(\"Can't read cap\") #문제시 종료        \n",
    "        break  \n",
    "\n",
    "    img_gray = cv2.cvtColor(img, cv2.COLOR_BGR2GRAY)#캡쳐된 프레임을 색상공간에서 회색조로 변환 // cv2.cvtColor()다른색상으로 이미지 변환\n",
    "\n",
    "    faces = face_xml.detectMultiScale(img_gray, 1.3, 5) #감지된 얼굴 직사각형 목록으로 변수에 저장\n",
    "    for (x, y, w, h) in faces: #감지된 얼굴 반복 // 얼굴주변 사각형 그림\n",
    "        cv2.rectangle(img, (x, y), (x + w, y + h), (255, 0, 0), 2)\n",
    "\n",
    "        roi_color = img[y:y + h, x:x + w] #영역 내 컬러 이미지와 회색조 이미지 영역 지정\n",
    "        roi_gray = img_gray[y:y + h, x:x + w]\n",
    "        \n",
    "        eyes = eye_xml.detectMultiScale(roi_gray)#눈 감지\n",
    "        for (ex, ey, ew, eh) in eyes: #감지된 눈 반복 // 눈 주위 사각형 그림\n",
    "            cv2.rectangle(roi_color, (ex, ey), (ex+ew, ey+eh), (0, 255, 0), 2)\n",
    "\n",
    "   \n",
    "    cv2.imshow(\"Face Recognition\", img) #이미지 표시\n",
    "\n",
    "    if cv2.waitKey(1) == ord('q'): #q누르면 while 종료 다음코드\n",
    "        break\n",
    "\n",
    "cv2.destroyAllWindows() #모든 창 닫음"
   ]
  }
 ],
 "metadata": {
  "kernelspec": {
   "display_name": "Python 3 (ipykernel)",
   "language": "python",
   "name": "python3"
  },
  "language_info": {
   "codemirror_mode": {
    "name": "ipython",
    "version": 3
   },
   "file_extension": ".py",
   "mimetype": "text/x-python",
   "name": "python",
   "nbconvert_exporter": "python",
   "pygments_lexer": "ipython3",
   "version": "3.10.9"
  }
 },
 "nbformat": 4,
 "nbformat_minor": 2
}
